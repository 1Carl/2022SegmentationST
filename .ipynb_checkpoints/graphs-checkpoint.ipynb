{
 "cells": [
  {
   "cell_type": "code",
   "execution_count": 8,
   "id": "4ca1f157-ce9e-4cf1-91a4-450065a3ed65",
   "metadata": {},
   "outputs": [],
   "source": [
    "import matplotlib.pyplot as plt\n",
    "import json"
   ]
  },
  {
   "cell_type": "code",
   "execution_count": 19,
   "id": "edb79f15-db48-4de5-8219-e2d5300286df",
   "metadata": {},
   "outputs": [],
   "source": [
    "langs = [\n",
    "    \"eng\", \n",
    "    \"spa\",\n",
    "    \"ita\",\n",
    "    \"fra\",\n",
    "    \"hun\",\n",
    "    \"spa\"\n",
    "]\n",
    "\n",
    "colors = [\n",
    "    \"red\", \n",
    "    \"blue\", \n",
    "    \"green\", \n",
    "    \"yellow\", \n",
    "    \"pink\", \n",
    "    \"brown\"\n",
    "]"
   ]
  },
  {
   "cell_type": "code",
   "execution_count": 22,
   "id": "5981fa82-5ada-4545-82be-244b5d0f8ba6",
   "metadata": {},
   "outputs": [
    {
     "name": "stdout",
     "output_type": "stream",
     "text": [
      "{'category': '000', 'distance': 0.3116656993615786, 'precision': 64.57724573475352, 'recall': 79.52408589669182, 'f_measure': 71.27548897211818}\n",
      "{'category': '000', 'distance': 0.4898626553302812, 'precision': 66.2533692722372, 'recall': 80.3793328973185, 'f_measure': 72.63593380614657}\n",
      "{'category': '000', 'distance': 0.8995837669094693, 'precision': 54.284591194968556, 'recall': 71.8522372528616, 'f_measure': 61.84505150022391}\n",
      "{'category': '000', 'distance': 0.6497797356828194, 'precision': 55.04794134235759, 'recall': 71.65932452276064, 'f_measure': 62.26475279106858}\n",
      "{'category': '000', 'distance': 0.18330605564648117, 'precision': 75.92592592592592, 'recall': 87.23404255319149, 'f_measure': 81.18811881188118}\n",
      "{'category': '000', 'distance': 0.4898626553302812, 'precision': 66.2533692722372, 'recall': 80.3793328973185, 'f_measure': 72.63593380614657}\n"
     ]
    },
    {
     "data": {
      "image/png": "[encoded data removed]",
      "text/plain": [
       "<Figure size 432x288 with 1 Axes>"
      ]
     },
     "metadata": {
      "needs_background": "light"
     },
     "output_type": "display_data"
    }
   ],
   "source": [
    "plt.plot()\n",
    "for ind, lang in enumerate(langs):\n",
    "    datafile = open(f\"resultjson/{lang}.json\") \n",
    "    data = json.load(datafile)\n",
    "    plt.axis([0, 1, 0, 100])\n",
    "    plt.scatter(x=data[0][\"distance\"], y=data[0][\"f_measure\"], color=colors[ind])\n",
    "    print(data[0])\n",
    "    \n",
    "plt.show()"
   ]
  },
  {
   "cell_type": "code",
   "execution_count": null,
   "id": "de964430-b3a4-42b1-8300-09688d221c40",
   "metadata": {},
   "outputs": [],
   "source": []
  }
 ],
 "metadata": {
  "kernelspec": {
   "display_name": "Python 3 (ipykernel)",
   "language": "python",
   "name": "python3"
  },
  "language_info": {
   "codemirror_mode": {
    "name": "ipython",
    "version": 3
   },
   "file_extension": ".py",
   "mimetype": "text/x-python",
   "name": "python",
   "nbconvert_exporter": "python",
   "pygments_lexer": "ipython3",
   "version": "3.7.13"
  }
 },
 "nbformat": 4,
 "nbformat_minor": 5
}

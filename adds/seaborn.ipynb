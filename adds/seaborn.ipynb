{
 "cells": [
  {
   "cell_type": "code",
   "execution_count": 19,
   "metadata": {},
   "outputs": [],
   "source": [
    "import seaborn as sns\n",
    "import json\n",
    "import pandas as pd\n",
    "import matplotlib.pyplot as plt"
   ]
  },
  {
   "cell_type": "code",
   "execution_count": 20,
   "metadata": {},
   "outputs": [],
   "source": [
    "langs = [\n",
    "    \"eng\", \n",
    "    \"mon\"\n",
    "]\n",
    "\n",
    "colors = [\n",
    "    \"red\", \n",
    "    \"blue\", \n",
    "    \"green\", \n",
    "    \"yellow\", \n",
    "    \"pink\", \n",
    "    \"brown\", \n",
    "    \"orange\"\n",
    "]\n",
    "\n",
    "markers = [\n",
    "    \n",
    "]\n"
   ]
  },
  {
   "cell_type": "code",
   "execution_count": 21,
   "metadata": {},
   "outputs": [],
   "source": [
    "def readLang(str):\n",
    "    categories = {}\n",
    "    with open(str) as f:\n",
    "        for line in f.readlines():\n",
    "            line = line.split(\"\\t\")\n",
    "            if line[2].strip() not in categories:\n",
    "                categories[line[2].strip()] = 0\n",
    "            else:\n",
    "                categories[line[2].strip()] += 1\n",
    "    \n",
    "    categories[\"all\"] = sum(categories.values())\n",
    "\n",
    "    return categories\n",
    "\n",
    "def readJson(str):\n",
    "    datafile = open(str, \"r\")\n",
    "    return json.load(datafile)\n",
    "\n"
   ]
  },
  {
   "cell_type": "code",
   "execution_count": 22,
   "metadata": {},
   "outputs": [
    {
     "data": {
      "text/html": [
       "<div>\n",
       "<style scoped>\n",
       "    .dataframe tbody tr th:only-of-type {\n",
       "        vertical-align: middle;\n",
       "    }\n",
       "\n",
       "    .dataframe tbody tr th {\n",
       "        vertical-align: top;\n",
       "    }\n",
       "\n",
       "    .dataframe thead th {\n",
       "        text-align: right;\n",
       "    }\n",
       "</style>\n",
       "<table border=\"1\" class=\"dataframe\">\n",
       "  <thead>\n",
       "    <tr style=\"text-align: right;\">\n",
       "      <th></th>\n",
       "      <th>category</th>\n",
       "      <th>distance</th>\n",
       "      <th>precision</th>\n",
       "      <th>recall</th>\n",
       "      <th>f_measure</th>\n",
       "      <th>lang</th>\n",
       "      <th>data_count</th>\n",
       "    </tr>\n",
       "  </thead>\n",
       "  <tbody>\n",
       "    <tr>\n",
       "      <th>0</th>\n",
       "      <td>000</td>\n",
       "      <td>0.277771</td>\n",
       "      <td>67.606715</td>\n",
       "      <td>81.810795</td>\n",
       "      <td>74.033613</td>\n",
       "      <td>eng</td>\n",
       "      <td>68862.0</td>\n",
       "    </tr>\n",
       "    <tr>\n",
       "      <th>1</th>\n",
       "      <td>001</td>\n",
       "      <td>0.232454</td>\n",
       "      <td>89.847842</td>\n",
       "      <td>89.535173</td>\n",
       "      <td>89.691235</td>\n",
       "      <td>eng</td>\n",
       "      <td>16151.0</td>\n",
       "    </tr>\n",
       "    <tr>\n",
       "      <th>2</th>\n",
       "      <td>010</td>\n",
       "      <td>0.487820</td>\n",
       "      <td>88.184556</td>\n",
       "      <td>84.961069</td>\n",
       "      <td>86.542806</td>\n",
       "      <td>eng</td>\n",
       "      <td>168111.0</td>\n",
       "    </tr>\n",
       "    <tr>\n",
       "      <th>3</th>\n",
       "      <td>011</td>\n",
       "      <td>0.694226</td>\n",
       "      <td>89.245368</td>\n",
       "      <td>81.443299</td>\n",
       "      <td>85.166020</td>\n",
       "      <td>eng</td>\n",
       "      <td>6083.0</td>\n",
       "    </tr>\n",
       "    <tr>\n",
       "      <th>4</th>\n",
       "      <td>100</td>\n",
       "      <td>0.261956</td>\n",
       "      <td>84.092298</td>\n",
       "      <td>91.064041</td>\n",
       "      <td>87.439422</td>\n",
       "      <td>eng</td>\n",
       "      <td>96544.0</td>\n",
       "    </tr>\n",
       "    <tr>\n",
       "      <th>5</th>\n",
       "      <td>101</td>\n",
       "      <td>0.243490</td>\n",
       "      <td>92.753984</td>\n",
       "      <td>87.359287</td>\n",
       "      <td>89.975845</td>\n",
       "      <td>eng</td>\n",
       "      <td>11375.0</td>\n",
       "    </tr>\n",
       "    <tr>\n",
       "      <th>6</th>\n",
       "      <td>110</td>\n",
       "      <td>0.479986</td>\n",
       "      <td>91.589758</td>\n",
       "      <td>85.687219</td>\n",
       "      <td>88.540225</td>\n",
       "      <td>eng</td>\n",
       "      <td>88819.0</td>\n",
       "    </tr>\n",
       "    <tr>\n",
       "      <th>7</th>\n",
       "      <td>111</td>\n",
       "      <td>1.204082</td>\n",
       "      <td>85.966461</td>\n",
       "      <td>68.736768</td>\n",
       "      <td>76.392157</td>\n",
       "      <td>eng</td>\n",
       "      <td>2739.0</td>\n",
       "    </tr>\n",
       "    <tr>\n",
       "      <th>8</th>\n",
       "      <td>all</td>\n",
       "      <td>0.399209</td>\n",
       "      <td>86.848193</td>\n",
       "      <td>86.027792</td>\n",
       "      <td>86.436046</td>\n",
       "      <td>eng</td>\n",
       "      <td>458684.0</td>\n",
       "    </tr>\n",
       "    <tr>\n",
       "      <th>0</th>\n",
       "      <td>000</td>\n",
       "      <td>0.150000</td>\n",
       "      <td>80.790960</td>\n",
       "      <td>89.375000</td>\n",
       "      <td>84.866469</td>\n",
       "      <td>mon</td>\n",
       "      <td>1282.0</td>\n",
       "    </tr>\n",
       "    <tr>\n",
       "      <th>1</th>\n",
       "      <td>010</td>\n",
       "      <td>0.859091</td>\n",
       "      <td>78.541667</td>\n",
       "      <td>72.500000</td>\n",
       "      <td>75.400000</td>\n",
       "      <td>mon</td>\n",
       "      <td>1759.0</td>\n",
       "    </tr>\n",
       "    <tr>\n",
       "      <th>2</th>\n",
       "      <td>100</td>\n",
       "      <td>0.170564</td>\n",
       "      <td>94.174092</td>\n",
       "      <td>94.497937</td>\n",
       "      <td>94.335736</td>\n",
       "      <td>mon</td>\n",
       "      <td>5811.0</td>\n",
       "    </tr>\n",
       "    <tr>\n",
       "      <th>3</th>\n",
       "      <td>101</td>\n",
       "      <td>0.000000</td>\n",
       "      <td>100.000000</td>\n",
       "      <td>100.000000</td>\n",
       "      <td>100.000000</td>\n",
       "      <td>mon</td>\n",
       "      <td>27.0</td>\n",
       "    </tr>\n",
       "    <tr>\n",
       "      <th>4</th>\n",
       "      <td>110</td>\n",
       "      <td>0.701911</td>\n",
       "      <td>89.403974</td>\n",
       "      <td>84.655109</td>\n",
       "      <td>86.964759</td>\n",
       "      <td>mon</td>\n",
       "      <td>6283.0</td>\n",
       "    </tr>\n",
       "    <tr>\n",
       "      <th>5</th>\n",
       "      <td>all</td>\n",
       "      <td>0.468602</td>\n",
       "      <td>89.471441</td>\n",
       "      <td>86.485373</td>\n",
       "      <td>87.953069</td>\n",
       "      <td>mon</td>\n",
       "      <td>15165.0</td>\n",
       "    </tr>\n",
       "  </tbody>\n",
       "</table>\n",
       "</div>"
      ],
      "text/plain": [
       "  category  distance   precision      recall   f_measure lang  data_count\n",
       "0      000  0.277771   67.606715   81.810795   74.033613  eng     68862.0\n",
       "1      001  0.232454   89.847842   89.535173   89.691235  eng     16151.0\n",
       "2      010  0.487820   88.184556   84.961069   86.542806  eng    168111.0\n",
       "3      011  0.694226   89.245368   81.443299   85.166020  eng      6083.0\n",
       "4      100  0.261956   84.092298   91.064041   87.439422  eng     96544.0\n",
       "5      101  0.243490   92.753984   87.359287   89.975845  eng     11375.0\n",
       "6      110  0.479986   91.589758   85.687219   88.540225  eng     88819.0\n",
       "7      111  1.204082   85.966461   68.736768   76.392157  eng      2739.0\n",
       "8      all  0.399209   86.848193   86.027792   86.436046  eng    458684.0\n",
       "0      000  0.150000   80.790960   89.375000   84.866469  mon      1282.0\n",
       "1      010  0.859091   78.541667   72.500000   75.400000  mon      1759.0\n",
       "2      100  0.170564   94.174092   94.497937   94.335736  mon      5811.0\n",
       "3      101  0.000000  100.000000  100.000000  100.000000  mon        27.0\n",
       "4      110  0.701911   89.403974   84.655109   86.964759  mon      6283.0\n",
       "5      all  0.468602   89.471441   86.485373   87.953069  mon     15165.0"
      ]
     },
     "metadata": {},
     "output_type": "display_data"
    }
   ],
   "source": [
    "dfs = []\n",
    "\n",
    "for ind, lang in enumerate(langs): \n",
    "    dc = None   \n",
    "    data = pd.read_json(f\"transformer2/resultjson/{lang}.json\")\n",
    "    data[\"lang\"]=lang\n",
    "    if lang != \"spa\":\n",
    "        dc = readLang(f\"data/{lang}.word.train.tsv\")\n",
    "        for index in data.index:\n",
    "            data.loc[index, \"data_count\"] = dc[data.loc[index, \"category\"]]\n",
    "\n",
    "    dfs.append(data)\n",
    "\n",
    "dd = pd.concat(dfs, sort=False)\n",
    "display(dd)\n"
   ]
  },
  {
   "cell_type": "code",
   "execution_count": 23,
   "metadata": {},
   "outputs": [
    {
     "data": {
      "image/png": "[encoded data removed]",
      "text/plain": [
       "<Figure size 1080x720 with 1 Axes>"
      ]
     },
     "metadata": {
      "needs_background": "light"
     },
     "output_type": "display_data"
    }
   ],
   "source": [
    "fig, ax = plt.subplots(figsize=(15, 10))\n",
    "\n",
    "sns.barplot(data=dd, x=\"lang\", y=\"f_measure\", hue=\"category\", ax=ax)\n",
    "ax.legend(bbox_to_anchor=(1.05, 1), loc=2, borderaxespad=0.)\n",
    "plt.savefig(\"lang_fmeasure2.png\")\n"
   ]
  },
  {
   "cell_type": "code",
   "execution_count": 24,
   "metadata": {},
   "outputs": [
    {
     "data": {
      "image/png": "[encoded data removed]",
      "text/plain": [
       "<Figure size 1080x720 with 1 Axes>"
      ]
     },
     "metadata": {
      "needs_background": "light"
     },
     "output_type": "display_data"
    }
   ],
   "source": [
    "fig, ax = plt.subplots(figsize=(15, 10))\n",
    "\n",
    "sns.barplot(data=dd, x=\"category\", y=\"f_measure\", hue=\"lang\", ax=ax)\n",
    "ax.legend(bbox_to_anchor=(1.05, 1), loc=2, borderaxespad=0.)\n",
    "plt.savefig(\"cat_fmeasure2.png\")"
   ]
  },
  {
   "cell_type": "code",
   "execution_count": 25,
   "metadata": {},
   "outputs": [
    {
     "name": "stdout",
     "output_type": "stream",
     "text": [
      "  category  distance   precision      recall   f_measure lang  data_count\n",
      "0      000  0.277771   67.606715   81.810795   74.033613  eng     68862.0\n",
      "1      001  0.232454   89.847842   89.535173   89.691235  eng     16151.0\n",
      "2      010  0.487820   88.184556   84.961069   86.542806  eng    168111.0\n",
      "3      011  0.694226   89.245368   81.443299   85.166020  eng      6083.0\n",
      "4      100  0.261956   84.092298   91.064041   87.439422  eng     96544.0\n",
      "5      101  0.243490   92.753984   87.359287   89.975845  eng     11375.0\n",
      "6      110  0.479986   91.589758   85.687219   88.540225  eng     88819.0\n",
      "7      111  1.204082   85.966461   68.736768   76.392157  eng      2739.0\n",
      "8      all  0.399209   86.848193   86.027792   86.436046  eng    458684.0\n",
      "0      000  0.150000   80.790960   89.375000   84.866469  mon      1282.0\n",
      "1      010  0.859091   78.541667   72.500000   75.400000  mon      1759.0\n",
      "2      100  0.170564   94.174092   94.497937   94.335736  mon      5811.0\n",
      "3      101  0.000000  100.000000  100.000000  100.000000  mon        27.0\n",
      "4      110  0.701911   89.403974   84.655109   86.964759  mon      6283.0\n",
      "5      all  0.468602   89.471441   86.485373   87.953069  mon     15165.0\n"
     ]
    },
    {
     "data": {
      "image/png": "[encoded data removed]",
      "text/plain": [
       "<Figure size 1080x720 with 1 Axes>"
      ]
     },
     "metadata": {
      "needs_background": "light"
     },
     "output_type": "display_data"
    }
   ],
   "source": [
    "fig, ax = plt.subplots(figsize=(15, 10))\n",
    "data_copy = dd.copy()\n",
    "data_copy = data_copy[data_copy['lang'] != 'spa']\n",
    "print(data_copy)\n",
    "sns.barplot(data=data_copy, x=\"lang\", y=\"data_count\", hue=\"category\", ax=ax)\n",
    "ax.legend(bbox_to_anchor=(1.05, 1), loc=2, borderaxespad=0.)\n",
    "plt.savefig(\"lang_datacount2.png\")"
   ]
  }
 ],
 "metadata": {
  "interpreter": {
   "hash": "e5030792b3492f6b12d94f1f48beca3d8e59ec05fd59d0aaaa48e684281ed297"
  },
  "kernelspec": {
   "display_name": "Python 3 (ipykernel)",
   "language": "python",
   "name": "python3"
  },
  "language_info": {
   "codemirror_mode": {
    "name": "ipython",
    "version": 3
   },
   "file_extension": ".py",
   "mimetype": "text/x-python",
   "name": "python",
   "nbconvert_exporter": "python",
   "pygments_lexer": "ipython3",
   "version": "3.7.11"
  }
 },
 "nbformat": 4,
 "nbformat_minor": 4
}
